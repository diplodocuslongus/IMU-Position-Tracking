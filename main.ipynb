{
 "cells": [
  {
   "cell_type": "code",
   "execution_count": 1,
   "metadata": {},
   "outputs": [],
   "source": [
    "import numpy as np\n",
    "import numpy.linalg"
   ]
  },
  {
   "cell_type": "markdown",
   "metadata": {},
   "source": [
    "Following needs pip install ipympl"
   ]
  },
  {
   "cell_type": "code",
   "execution_count": 2,
   "metadata": {},
   "outputs": [],
   "source": [
    "%matplotlib widget\n",
    "np.set_printoptions(precision=8, suppress=True)"
   ]
  },
  {
   "cell_type": "code",
   "execution_count": 3,
   "metadata": {},
   "outputs": [],
   "source": [
    "import data_receiver\n",
    "from mathlib import *\n",
    "from plotlib import *"
   ]
  },
  {
   "cell_type": "code",
   "execution_count": 4,
   "metadata": {},
   "outputs": [],
   "source": [
    "# sampling rate\n",
    "dt = 0.01    # s\n",
    "\n",
    "# the initialization interval\n",
    "ts = 1    # s"
   ]
  },
  {
   "cell_type": "markdown",
   "metadata": {},
   "source": [
    "# Pull Data From Phone\n",
    "data order: gyroscorpe, accelerometer, magnetometer\n",
    "Phone is using the HYPERIMU app."
   ]
  },
  {
   "cell_type": "code",
   "execution_count": 5,
   "metadata": {},
   "outputs": [
    {
     "ename": "KeyboardInterrupt",
     "evalue": "",
     "output_type": "error",
     "traceback": [
      "\u001b[0;31m---------------------------------------------------------------------------\u001b[0m",
      "\u001b[0;31mKeyboardInterrupt\u001b[0m                         Traceback (most recent call last)",
      "Input \u001b[0;32mIn [5]\u001b[0m, in \u001b[0;36m<cell line: 5>\u001b[0;34m()\u001b[0m\n\u001b[1;32m      1\u001b[0m r \u001b[38;5;241m=\u001b[39m data_receiver\u001b[38;5;241m.\u001b[39mReceiver()\n\u001b[1;32m      3\u001b[0m data \u001b[38;5;241m=\u001b[39m []\n\u001b[0;32m----> 5\u001b[0m \u001b[38;5;28;01mfor\u001b[39;00m line \u001b[38;5;129;01min\u001b[39;00m \u001b[43mr\u001b[49m\u001b[38;5;241;43m.\u001b[39;49m\u001b[43mreceive\u001b[49m\u001b[43m(\u001b[49m\u001b[43m)\u001b[49m:\n\u001b[1;32m      6\u001b[0m     data\u001b[38;5;241m.\u001b[39mappend(line\u001b[38;5;241m.\u001b[39msplit(\u001b[38;5;124m'\u001b[39m\u001b[38;5;124m,\u001b[39m\u001b[38;5;124m'\u001b[39m))\n\u001b[1;32m      8\u001b[0m data \u001b[38;5;241m=\u001b[39m np\u001b[38;5;241m.\u001b[39marray(data, dtype \u001b[38;5;241m=\u001b[39m np\u001b[38;5;241m.\u001b[39mfloat)\n",
      "File \u001b[0;32m~/Programs/othersgitrepos/IMU-Position-Tracking/data_receiver.py:18\u001b[0m, in \u001b[0;36mReceiver.receive\u001b[0;34m(self)\u001b[0m\n\u001b[1;32m     16\u001b[0m sock\u001b[38;5;241m.\u001b[39mbind((\u001b[38;5;28mself\u001b[39m\u001b[38;5;241m.\u001b[39mHOST, \u001b[38;5;28mself\u001b[39m\u001b[38;5;241m.\u001b[39mPORT))\n\u001b[1;32m     17\u001b[0m sock\u001b[38;5;241m.\u001b[39mlisten(\u001b[38;5;241m0\u001b[39m)\n\u001b[0;32m---> 18\u001b[0m request, addr \u001b[38;5;241m=\u001b[39m \u001b[43msock\u001b[49m\u001b[38;5;241;43m.\u001b[39;49m\u001b[43maccept\u001b[49m\u001b[43m(\u001b[49m\u001b[43m)\u001b[49m\n\u001b[1;32m     19\u001b[0m \u001b[38;5;28;01mreturn\u001b[39;00m request\u001b[38;5;241m.\u001b[39mmakefile(\u001b[38;5;124m'\u001b[39m\u001b[38;5;124mr\u001b[39m\u001b[38;5;124m'\u001b[39m)\n",
      "File \u001b[0;32m/usr/local/lib/python3.8/socket.py:292\u001b[0m, in \u001b[0;36msocket.accept\u001b[0;34m(self)\u001b[0m\n\u001b[1;32m    285\u001b[0m \u001b[38;5;28;01mdef\u001b[39;00m \u001b[38;5;21maccept\u001b[39m(\u001b[38;5;28mself\u001b[39m):\n\u001b[1;32m    286\u001b[0m     \u001b[38;5;124;03m\"\"\"accept() -> (socket object, address info)\u001b[39;00m\n\u001b[1;32m    287\u001b[0m \n\u001b[1;32m    288\u001b[0m \u001b[38;5;124;03m    Wait for an incoming connection.  Return a new socket\u001b[39;00m\n\u001b[1;32m    289\u001b[0m \u001b[38;5;124;03m    representing the connection, and the address of the client.\u001b[39;00m\n\u001b[1;32m    290\u001b[0m \u001b[38;5;124;03m    For IP sockets, the address info is a pair (hostaddr, port).\u001b[39;00m\n\u001b[1;32m    291\u001b[0m \u001b[38;5;124;03m    \"\"\"\u001b[39;00m\n\u001b[0;32m--> 292\u001b[0m     fd, addr \u001b[38;5;241m=\u001b[39m \u001b[38;5;28;43mself\u001b[39;49m\u001b[38;5;241;43m.\u001b[39;49m\u001b[43m_accept\u001b[49m\u001b[43m(\u001b[49m\u001b[43m)\u001b[49m\n\u001b[1;32m    293\u001b[0m     sock \u001b[38;5;241m=\u001b[39m socket(\u001b[38;5;28mself\u001b[39m\u001b[38;5;241m.\u001b[39mfamily, \u001b[38;5;28mself\u001b[39m\u001b[38;5;241m.\u001b[39mtype, \u001b[38;5;28mself\u001b[39m\u001b[38;5;241m.\u001b[39mproto, fileno\u001b[38;5;241m=\u001b[39mfd)\n\u001b[1;32m    294\u001b[0m     \u001b[38;5;66;03m# Issue #7995: if no default timeout is set and the listening\u001b[39;00m\n\u001b[1;32m    295\u001b[0m     \u001b[38;5;66;03m# socket had a (non-zero) timeout, force the new socket in blocking\u001b[39;00m\n\u001b[1;32m    296\u001b[0m     \u001b[38;5;66;03m# mode to override platform-specific socket flags inheritance.\u001b[39;00m\n",
      "\u001b[0;31mKeyboardInterrupt\u001b[0m: "
     ]
    }
   ],
   "source": [
    "r = data_receiver.Receiver()\n",
    "\n",
    "data = []\n",
    "\n",
    "for line in r.receive():\n",
    "    data.append(line.split(','))\n",
    "\n",
    "data = np.array(data, dtype = np.float)"
   ]
  },
  {
   "cell_type": "markdown",
   "metadata": {},
   "source": [
    "# Initialization"
   ]
  },
  {
   "cell_type": "code",
   "execution_count": null,
   "metadata": {},
   "outputs": [],
   "source": [
    "# discard the first and last few readings\n",
    "# for some reason they fluctuate a lot\n",
    "w = data[10:-10, 0:3]\n",
    "a = data[10:-10, 3:6]\n",
    "m = data[10:-10, 6:9]\n",
    "\n",
    "if(np.shape(w)[0] < ts/dt):\n",
    "    print(\"not enough data for intialization!\")\n",
    "\n",
    "# gravity\n",
    "gn = a[:int(ts/dt)].mean(axis = 0)\n",
    "gn = -gn[:, np.newaxis]\n",
    "g0 = np.linalg.norm(gn)  # save the initial magnitude of gravity\n",
    "\n",
    "# magnetic field\n",
    "mn = m[:int(ts/dt)].mean(axis = 0)\n",
    "mn = Normalized(mn)[:, np.newaxis]  # magnitude is not important\n",
    "\n",
    "avar = a[:int(ts/dt)].var(axis=0)\n",
    "wvar = w[:int(ts/dt)].var(axis=0)\n",
    "mvar = m[:int(ts/dt)].var(axis=0)\n",
    "print('acc var: ', avar, ', ', np.linalg.norm(avar))\n",
    "print('ang var: ', wvar, ', ', np.linalg.norm(wvar))\n",
    "print('mag var: ', mvar, ', ', np.linalg.norm(mvar))\n",
    "\n",
    "# cut the initialization data\n",
    "w = w[int(ts/dt) - 1:] - w[:int(ts/dt)].mean(axis=0)\n",
    "a = a[int(ts/dt):]\n",
    "m = m[int(ts/dt):]\n",
    "\n",
    "sample_number = np.shape(a)[0]"
   ]
  },
  {
   "cell_type": "code",
   "execution_count": null,
   "metadata": {},
   "outputs": [],
   "source": [
    "a_filtered, w_filtered = Filt_signal((a, w), dt=dt, wn=10, btype='lowpass')\n",
    "plot_signal([a, a_filtered], [w, w_filtered], [m])"
   ]
  },
  {
   "cell_type": "markdown",
   "metadata": {},
   "source": [
    "# Kalman Filter"
   ]
  },
  {
   "cell_type": "code",
   "execution_count": null,
   "metadata": {},
   "outputs": [],
   "source": [
    "gyro_noise = 10 * np.linalg.norm(wvar)\n",
    "acc_noise = 10 * np.linalg.norm(avar)\n",
    "mag_noise = 10 * np.linalg.norm(mvar)\n",
    "\n",
    "P = 1e-10 * I(4)"
   ]
  },
  {
   "cell_type": "code",
   "execution_count": null,
   "metadata": {
    "tags": [
     "outputPrepend"
    ]
   },
   "outputs": [],
   "source": [
    "a_nav = []\n",
    "orientations = []\n",
    "\n",
    "q = np.array([[1., 0., 0., 0.]]).T\n",
    "orin = -gn / np.linalg.norm(gn)\n",
    "\n",
    "t = 0\n",
    "while t < sample_number:\n",
    "    wt = w[t, np.newaxis].T\n",
    "    at = a[t, np.newaxis].T\n",
    "    mt = m[t, np.newaxis].T \n",
    "    mt = Normalized(mt)\n",
    "\n",
    "    # Propagation\n",
    "    Ft = F(q, wt, dt)\n",
    "    Gt = G(q)\n",
    "    Q = (gyro_noise * dt)**2 * Gt @ Gt.T\n",
    "    \n",
    "    q = Ft @ q\n",
    "    q = Normalized(q)\n",
    "    P = Ft @ P @ Ft.T + Q    \n",
    "\n",
    "    # Measurement Update\n",
    "    # Use only normalized measurements to reduce error!\n",
    "    \n",
    "    # acc and mag prediction\n",
    "    pa = Normalized(-Rotate(q) @ gn)\n",
    "    pm = Normalized(Rotate(q) @ mn)\n",
    "\n",
    "    # Residual\n",
    "    Eps = np.vstack((Normalized(at), mt)) - np.vstack((pa, pm))\n",
    "    \n",
    "    # internal error + external error\n",
    "    Ra = [(acc_noise / np.linalg.norm(at))**2 + (1 - g0 / np.linalg.norm(at))**2] * 3\n",
    "    Rm = [mag_noise**2] * 3\n",
    "    R = np.diag(Ra + Rm)\n",
    "    \n",
    "    Ht = H(q, gn, mn)\n",
    "\n",
    "    S = Ht @ P @ Ht.T + R\n",
    "    K = P @ Ht.T @ np.linalg.inv(S)\n",
    "    q = q + K @ Eps\n",
    "    P = P - K @ Ht @ P\n",
    "    \n",
    "    # Post Correction\n",
    "    q = Normalized(q)\n",
    "    P = 0.5 * (P + P.T)  # make sure P is symmertical\n",
    "    \n",
    "    conj = -I(4)\n",
    "    conj[0, 0] = 1\n",
    "    an = Rotate(conj @ q) @ at + gn\n",
    "    ori = Rotate(conj @ q) @ orin\n",
    "\n",
    "    a_nav.append(an.T[0])\n",
    "    orientations.append(ori.T[0])\n",
    "\n",
    "    t += 1\n",
    "\n",
    "a_nav = np.array(a_nav)\n",
    "orientations = np.array(orientations)"
   ]
  },
  {
   "cell_type": "markdown",
   "metadata": {},
   "source": [
    "# Accelerometer Bias/Error Correction"
   ]
  },
  {
   "cell_type": "code",
   "execution_count": null,
   "metadata": {},
   "outputs": [],
   "source": [
    "a_threshold = 0.2"
   ]
  },
  {
   "cell_type": "code",
   "execution_count": null,
   "metadata": {
    "tags": [
     "outputPrepend"
    ]
   },
   "outputs": [],
   "source": [
    "t_start = 0\n",
    "for t in range(sample_number):\n",
    "    at = a_nav[t]\n",
    "    if np.linalg.norm(at) > a_threshold:\n",
    "        t_start = t\n",
    "        break\n",
    "\n",
    "t_end = 0\n",
    "for t in range(sample_number - 1, -1,-1):\n",
    "    at = a_nav[t]\n",
    "    if np.linalg.norm(at - a_nav[-1]) > a_threshold:\n",
    "        t_end = t\n",
    "        break"
   ]
  },
  {
   "cell_type": "code",
   "execution_count": null,
   "metadata": {},
   "outputs": [],
   "source": [
    "print('motion starts at: ', t_start)\n",
    "print('motion ends at: ', t_end)"
   ]
  },
  {
   "cell_type": "code",
   "execution_count": null,
   "metadata": {},
   "outputs": [],
   "source": [
    "an_drift = a_nav[t_end:].mean(axis=0)\n",
    "an_drift_rate = an_drift / (t_end - t_start)\n",
    "\n",
    "for i in range(t_end - t_start):\n",
    "    a_nav[t_start + i] -= (i+1) * an_drift_rate\n",
    "\n",
    "for i in range(sample_number - t_end):\n",
    "    a_nav[t_end + i] -= an_drift"
   ]
  },
  {
   "cell_type": "code",
   "execution_count": null,
   "metadata": {},
   "outputs": [],
   "source": [
    "filtered_a_nav, = Filt_signal([a_nav], dt=dt, wn=(0.01, 15), btype='bandpass')\n",
    "plot_3([a_nav, filtered_a_nav])\n",
    "# plot_3([a_nav])"
   ]
  },
  {
   "cell_type": "markdown",
   "metadata": {},
   "source": [
    "# Zero Velocity Update"
   ]
  },
  {
   "cell_type": "code",
   "execution_count": null,
   "metadata": {
    "tags": [
     "outputPrepend"
    ]
   },
   "outputs": [],
   "source": [
    "velocities = []\n",
    "prevt = -1\n",
    "still_phase = False\n",
    "\n",
    "v = np.zeros((3, 1))\n",
    "t = 0\n",
    "while t < sample_number:\n",
    "    at = filtered_a_nav[t, np.newaxis].T\n",
    "\n",
    "    if np.linalg.norm(at) < a_threshold:\n",
    "        if not still_phase:\n",
    "            predict_v = v + at * dt\n",
    "\n",
    "            v_drift_rate = predict_v / (t - prevt)\n",
    "            for i in range(t - prevt - 1):\n",
    "                velocities[prevt + 1 + i] -= (i + 1) * v_drift_rate.T[0]\n",
    "\n",
    "        v = np.zeros((3, 1))\n",
    "        prevt = t\n",
    "        still_phase = True\n",
    "    else:\n",
    "        v = v + at * dt\n",
    "        still_phase = False\n",
    "    \n",
    "    t += 1\n",
    "    velocities.append(v.T[0])\n",
    "velocities = np.array(velocities)"
   ]
  },
  {
   "cell_type": "code",
   "execution_count": null,
   "metadata": {},
   "outputs": [],
   "source": [
    "plot_3([velocities])"
   ]
  },
  {
   "cell_type": "markdown",
   "metadata": {},
   "source": [
    "# Integration To Get Position"
   ]
  },
  {
   "cell_type": "code",
   "execution_count": null,
   "metadata": {},
   "outputs": [],
   "source": [
    "positions = []\n",
    "p = np.array([[0, 0, 0]]).T\n",
    "\n",
    "t = 0\n",
    "while t < sample_number:\n",
    "    at = filtered_a_nav[t, np.newaxis].T\n",
    "    vt = velocities[t, np.newaxis].T\n",
    "\n",
    "    p = p + vt * dt + 0.5 * at * dt**2\n",
    "    positions.append(p.T[0])\n",
    "\n",
    "    t += 1\n",
    "\n",
    "positions = np.array(positions)"
   ]
  },
  {
   "cell_type": "code",
   "execution_count": null,
   "metadata": {},
   "outputs": [],
   "source": [
    "plot_3D([[positions, 'position']])"
   ]
  },
  {
   "cell_type": "code",
   "execution_count": null,
   "metadata": {},
   "outputs": [],
   "source": [
    "plot_3([positions])"
   ]
  },
  {
   "cell_type": "markdown",
   "metadata": {},
   "source": [
    "# Close All Graphs"
   ]
  },
  {
   "cell_type": "code",
   "execution_count": null,
   "metadata": {},
   "outputs": [],
   "source": [
    "plt.close('all')"
   ]
  },
  {
   "cell_type": "code",
   "execution_count": null,
   "metadata": {},
   "outputs": [],
   "source": []
  }
 ],
 "metadata": {
  "kernelspec": {
   "display_name": "Python 3 (ipykernel)",
   "language": "python",
   "name": "python3"
  },
  "language_info": {
   "codemirror_mode": {
    "name": "ipython",
    "version": 3
   },
   "file_extension": ".py",
   "mimetype": "text/x-python",
   "name": "python",
   "nbconvert_exporter": "python",
   "pygments_lexer": "ipython3",
   "version": "3.8.2"
  }
 },
 "nbformat": 4,
 "nbformat_minor": 4
}
